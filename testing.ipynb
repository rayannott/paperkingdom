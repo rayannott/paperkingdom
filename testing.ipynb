{
 "cells": [
  {
   "cell_type": "code",
   "execution_count": null,
   "metadata": {},
   "outputs": [],
   "source": [
    "import numpy as np\n",
    "import matplotlib.pyplot as plt\n",
    "\n",
    "from board import Board, Pos, CompleteMove, BOARD_SIZE, make_cm, make_move, make"
   ]
  },
  {
   "cell_type": "code",
   "execution_count": null,
   "metadata": {},
   "outputs": [],
   "source": [
    "def draw_board(board: Board, print_info: bool = True):\n",
    "    from string import ascii_lowercase\n",
    "    if print_info:\n",
    "        board.info()\n",
    "        print(board.get_nbs())\n",
    "    board_np = np.zeros((BOARD_SIZE, BOARD_SIZE, 3), dtype=int)\n",
    "    for i in range(BOARD_SIZE):\n",
    "        for j in range(BOARD_SIZE):\n",
    "            if board[i, j].is_empty():\n",
    "                board_np[i, j, :] = np.array([255, 255, 255], dtype=int)\n",
    "            elif board[i, j].is_player():\n",
    "                board_np[i, j, :] = np.array([255, 0, 0], dtype=int) if board[i, j].player_id == 0 else np.array([0, 0, 255], dtype=int)\n",
    "            elif board[i, j].is_trace():\n",
    "                board_np[i, j, :] = np.array([180, 60, 60], dtype=int) if board[i, j].player_id == 0 else np.array([60, 100, 180], dtype=int)\n",
    "            elif board[i, j].is_shot():\n",
    "                board_np[i, j, :] = np.array([120, 120, 120], dtype=int)\n",
    "    fig = plt.figure(figsize=(6, 6))\n",
    "    ax = fig.add_subplot(1, 1, 1)\n",
    "    _ticks = np.linspace(0.5, BOARD_SIZE-0.5, BOARD_SIZE)\n",
    "    plt.imshow(board_np)\n",
    "    plt.plot([1.5, 9.5, 9.5, 1.5, 1.5], [1.5, 1.5, 9.5, 9.5, 1.5], '-ok')\n",
    "    plt.plot([4], [3], 'or')\n",
    "    plt.plot([7], [8], 'ob')\n",
    "    ax.set_yticks(_ticks)\n",
    "    ax.set_xticks(_ticks)\n",
    "    ax.tick_params(\n",
    "        axis='both',\n",
    "        which='both',\n",
    "        labelbottom=False,\n",
    "        labelleft=False)\n",
    "    ax.grid(which='both')\n",
    "    for i in range(BOARD_SIZE):\n",
    "        ax.text(i, BOARD_SIZE+0.5, ascii_lowercase[i], style='italic')\n",
    "    for i in range(BOARD_SIZE):\n",
    "        ax.text(-1, BOARD_SIZE - i - 1, (str(i) if i < 10 else ascii_lowercase[i-10]), style='italic')\n",
    "    plt.show()\n",
    "\n",
    "def eval_graph(board: Board):\n",
    "    if not board.eval_history:\n",
    "        print('no recorded history found')\n",
    "        return\n",
    "    plt.plot(board.eval_history, '--o', ms=5)\n",
    "    plt.grid()\n",
    "    plt.show()"
   ]
  },
  {
   "cell_type": "code",
   "execution_count": null,
   "metadata": {},
   "outputs": [],
   "source": [
    "b = Board()"
   ]
  },
  {
   "cell_type": "code",
   "execution_count": null,
   "metadata": {},
   "outputs": [],
   "source": [
    "b.set_state_from_ngd('f7/g5 i3/h5, g6/h4 j4/h6, f5/g7 j3/i5, f4/g2 i2/g3, f3/h2 j1/k3, f2/g4 k1/i0, e3/d1 k2/i1, e4/d2 l3/k5, e5/d3 k4/l2, f6/d5 j5/l6, e7/c6 i6/k7, f8/h7 j7/i9, g8/i7 i8/g9, f9/h8 j9/hb, ga/e9 ja/h9, fb/ha k9/ia, ea/gb k8/la, d9/fa l8/ka, c9/bb l7/j6, ca/eb k6/j8, b9/cb r.')"
   ]
  },
  {
   "cell_type": "code",
   "execution_count": null,
   "metadata": {},
   "outputs": [],
   "source": [
    "b.execute_complete_move(make('e7/f5'))\n",
    "# b.execute_complete_move(make('h4/g6'))\n",
    "# b.execute_complete_move(make('e6/g5'))\n",
    "# b.execute_complete_move(make('g3/e4'))\n",
    "# b.execute_complete_move(make('d5/f4'))\n",
    "# b.execute_complete_move(make('g4/e5'))\n",
    "# b.execute_complete_move(make('d4/f3'))\n",
    "# b.execute_complete_move(make('h5/f6'))"
   ]
  },
  {
   "cell_type": "code",
   "execution_count": null,
   "metadata": {},
   "outputs": [],
   "source": [
    "draw_board(b)"
   ]
  },
  {
   "cell_type": "code",
   "execution_count": null,
   "metadata": {},
   "outputs": [],
   "source": [
    "eval_graph(b)"
   ]
  },
  {
   "cell_type": "markdown",
   "metadata": {},
   "source": [
    "# Playing against the algo"
   ]
  },
  {
   "cell_type": "markdown",
   "metadata": {},
   "source": [
    "## PickBest"
   ]
  },
  {
   "cell_type": "code",
   "execution_count": null,
   "metadata": {},
   "outputs": [],
   "source": [
    "from engine import PickBest"
   ]
  },
  {
   "cell_type": "code",
   "execution_count": null,
   "metadata": {},
   "outputs": [],
   "source": [
    "board = Board()\n",
    "algo = PickBest(player_id=1, board=board)"
   ]
  },
  {
   "cell_type": "code",
   "execution_count": null,
   "metadata": {},
   "outputs": [],
   "source": [
    "# my move\n",
    "board.execute_complete_move(make('b9/cb'))"
   ]
  },
  {
   "cell_type": "code",
   "execution_count": null,
   "metadata": {},
   "outputs": [],
   "source": [
    "# bot's move\n",
    "algo.make_move()"
   ]
  },
  {
   "cell_type": "code",
   "execution_count": null,
   "metadata": {},
   "outputs": [],
   "source": [
    "draw_board(board)"
   ]
  },
  {
   "cell_type": "markdown",
   "metadata": {},
   "source": [
    "## Minimax"
   ]
  },
  {
   "cell_type": "code",
   "execution_count": null,
   "metadata": {},
   "outputs": [],
   "source": [
    "from engine import Minimax"
   ]
  },
  {
   "cell_type": "code",
   "execution_count": null,
   "metadata": {},
   "outputs": [],
   "source": [
    "board = Board()\n",
    "algo = Minimax(player_id=1, board=board, depth=3, randomize=True)"
   ]
  },
  {
   "cell_type": "code",
   "execution_count": null,
   "metadata": {},
   "outputs": [],
   "source": [
    "board.set_state_from_ngd('e7/f5 h4/g6, f7/g5')"
   ]
  },
  {
   "cell_type": "code",
   "execution_count": null,
   "metadata": {},
   "outputs": [],
   "source": [
    "board.set_state_from_ngd('e7/f5 h4/g6, f7/g5 i5/k6, g8/h6 j5/k3, h9/i7 j4/i2, g9/ib i3/h1, h8/j7 j2/i4, g7/i8 i1/j3, f6/g4 j1/l0, e5/c6 k2/j0, d6/c4 k1/i0, d7/b6')"
   ]
  },
  {
   "cell_type": "code",
   "execution_count": null,
   "metadata": {},
   "outputs": [],
   "source": [
    "# my move\n",
    "board.execute_complete_move(make('b7/a9'))"
   ]
  },
  {
   "cell_type": "code",
   "execution_count": null,
   "metadata": {},
   "outputs": [],
   "source": [
    "# bot's move\n",
    "algo.make_move()\n",
    "# algo.pick_move()"
   ]
  },
  {
   "cell_type": "code",
   "execution_count": null,
   "metadata": {},
   "outputs": [],
   "source": [
    "draw_board(board)"
   ]
  },
  {
   "cell_type": "markdown",
   "metadata": {},
   "source": [
    "# Bot vs. Bot"
   ]
  },
  {
   "cell_type": "code",
   "execution_count": 3,
   "metadata": {},
   "outputs": [],
   "source": [
    "from engine import PickBest, PickRandom, Minimax\n",
    "import exceptions as exc"
   ]
  },
  {
   "cell_type": "markdown",
   "metadata": {},
   "source": [
    "## PickBest vs. PickBest"
   ]
  },
  {
   "cell_type": "code",
   "execution_count": null,
   "metadata": {},
   "outputs": [],
   "source": [
    "board = Board()\n",
    "algo_red = PickBest(player_id=0, board=board, randomize=True)\n",
    "algo_blue = PickBest(player_id=1, board=board, randomize=True)"
   ]
  },
  {
   "cell_type": "markdown",
   "metadata": {},
   "source": [
    "## PickBest vs. PickRandom"
   ]
  },
  {
   "cell_type": "code",
   "execution_count": 4,
   "metadata": {},
   "outputs": [
    {
     "name": "stdout",
     "output_type": "stream",
     "text": [
      "0. winner: 1\n",
      "1. winner: 0\n",
      "2. winner: 0\n",
      "3. winner: 0\n",
      "4. winner: 0\n",
      "5. winner: 0\n",
      "6. winner: 0\n",
      "7. winner: 0\n",
      "8. winner: 1\n",
      "9. winner: 0\n",
      "10. winner: 0\n",
      "11. winner: 1\n",
      "12. winner: 0\n",
      "13. winner: 0\n",
      "14. winner: 0\n",
      "15. winner: 1\n",
      "16. winner: 0\n",
      "17. winner: 0\n",
      "18. winner: 0\n",
      "19. winner: 0\n",
      "20. winner: 1\n",
      "21. winner: 0\n",
      "22. winner: 0\n",
      "23. winner: 0\n",
      "24. winner: 0\n",
      "25. winner: 0\n",
      "26. winner: 1\n",
      "27. winner: 1\n",
      "28. winner: 0\n",
      "29. winner: 0\n",
      "30. winner: 1\n",
      "31. winner: 0\n",
      "32. winner: 0\n",
      "33. winner: 0\n",
      "34. winner: 1\n",
      "35. winner: 0\n",
      "36. winner: 0\n",
      "37. winner: 0\n",
      "38. winner: 0\n",
      "39. winner: 0\n",
      "40. winner: 0\n",
      "41. winner: 1\n",
      "42. winner: 0\n",
      "43. winner: 0\n",
      "44. winner: 0\n",
      "45. winner: 0\n",
      "46. winner: 0\n",
      "47. winner: 0\n",
      "48. winner: 0\n",
      "49. winner: 1\n"
     ]
    }
   ],
   "source": [
    "pick_best_won = 0\n",
    "for i in range(50):\n",
    "    board = Board()\n",
    "    algo_red = PickBest(player_id=0, board=board, randomize=True, verbose=False)\n",
    "    algo_blue = PickRandom(player_id=1, board=board)\n",
    "    while True:\n",
    "        try:\n",
    "            algo_red.make_move()\n",
    "            algo_blue.make_move()\n",
    "        except exc.GameIsOverException:\n",
    "            print(f'{i}. winner: {board.victor}')\n",
    "            if board.victor == 0: pick_best_won += 1\n",
    "            break"
   ]
  },
  {
   "cell_type": "code",
   "execution_count": 5,
   "metadata": {},
   "outputs": [
    {
     "data": {
      "text/plain": [
       "39"
      ]
     },
     "execution_count": 5,
     "metadata": {},
     "output_type": "execute_result"
    }
   ],
   "source": [
    "pick_best_won"
   ]
  },
  {
   "cell_type": "code",
   "execution_count": null,
   "metadata": {},
   "outputs": [],
   "source": [
    "draw_board(board)"
   ]
  },
  {
   "cell_type": "markdown",
   "metadata": {},
   "source": [
    "# Reviewing a game"
   ]
  },
  {
   "cell_type": "code",
   "execution_count": null,
   "metadata": {},
   "outputs": [],
   "source": [
    "from board import GameReplay"
   ]
  },
  {
   "cell_type": "code",
   "execution_count": null,
   "metadata": {},
   "outputs": [],
   "source": [
    "gr = GameReplay(\n",
    "    ngd='f7/g5 i3/h5, g6/h4 j4/h6, f5/g7 j3/i5, f4/g2 i2/g3, f3/h2 j1/k3, f2/g4 k1/i0, e3/d1 k2/i1, e4/d2 l3/k5, e5/d3 k4/l2, f6/d5 j5/l6, e7/c6 i6/k7, f8/h7 j7/i9, g8/i7 i8/g9, f9/h8 j9/hb, ga/e9 ja/h9, fb/ha k9/ia, ea/gb k8/la, d9/fa l8/ka, c9/bb l7/j6, ca/eb k6/j8, b9/cb r.'\n",
    ")"
   ]
  },
  {
   "cell_type": "code",
   "execution_count": null,
   "metadata": {},
   "outputs": [],
   "source": [
    "gr.play()\n",
    "draw_board(gr.b)"
   ]
  }
 ],
 "metadata": {
  "kernelspec": {
   "display_name": "thevenv",
   "language": "python",
   "name": "python3"
  },
  "language_info": {
   "codemirror_mode": {
    "name": "ipython",
    "version": 3
   },
   "file_extension": ".py",
   "mimetype": "text/x-python",
   "name": "python",
   "nbconvert_exporter": "python",
   "pygments_lexer": "ipython3",
   "version": "3.11.2"
  },
  "orig_nbformat": 4
 },
 "nbformat": 4,
 "nbformat_minor": 2
}
