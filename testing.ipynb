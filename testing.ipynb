{
 "cells": [
  {
   "cell_type": "code",
   "execution_count": 1,
   "metadata": {},
   "outputs": [],
   "source": [
    "import numpy as np\n",
    "import matplotlib.pyplot as plt\n",
    "\n",
    "from board import Board, Pos, CompleteMove, BOARD_SIZE\n",
    "from game import Game, make_cm, make_move, make"
   ]
  },
  {
   "cell_type": "code",
   "execution_count": 2,
   "metadata": {},
   "outputs": [],
   "source": [
    "def draw_board(board: Board):\n",
    "    from string import ascii_lowercase\n",
    "    board_np = np.zeros((BOARD_SIZE, BOARD_SIZE, 3), dtype=int)\n",
    "    for i in range(BOARD_SIZE):\n",
    "        for j in range(BOARD_SIZE):\n",
    "            if board[i, j].is_empty():\n",
    "                board_np[i, j, :] = np.array([255, 255, 255], dtype=int)\n",
    "            elif board[i, j].is_player():\n",
    "                board_np[i, j, :] = np.array([0, 0, 255], dtype=int) if board[i, j].player_id == 0 else np.array([255, 0, 0], dtype=int)\n",
    "            elif board[i, j].is_trace():\n",
    "                board_np[i, j, :] = np.array([60, 100, 180], dtype=int) if board[i, j].player_id == 0 else np.array([180, 60, 60], dtype=int)\n",
    "            elif board[i, j].is_shot():\n",
    "                board_np[i, j, :] = np.array([120, 120, 120], dtype=int)\n",
    "    fig = plt.figure(figsize=(6, 6))\n",
    "    ax = fig.add_subplot(1, 1, 1)\n",
    "    _ticks = np.linspace(0.5, BOARD_SIZE-0.5, BOARD_SIZE)\n",
    "    plt.imshow(board_np)\n",
    "    plt.plot([1.5, 9.5, 9.5, 1.5, 1.5], [1.5, 1.5, 9.5, 9.5, 1.5], '-ok')\n",
    "    plt.plot([4], [3], 'ob')\n",
    "    plt.plot([7], [8], 'or')\n",
    "    ax.set_yticks(_ticks)\n",
    "    ax.set_xticks(_ticks)\n",
    "    ax.tick_params(\n",
    "        axis='both',\n",
    "        which='both',\n",
    "        labelbottom=False,\n",
    "        labelleft=False)\n",
    "    ax.grid(which='both')\n",
    "    for i in range(BOARD_SIZE):\n",
    "        ax.text(i, BOARD_SIZE+0.5, ascii_lowercase[i], style='italic')\n",
    "    for i in range(BOARD_SIZE):\n",
    "        ax.text(-1, BOARD_SIZE - i - 1, (str(i) if i < 10 else ascii_lowercase[i-10]), style='italic')\n",
    "    plt.show()\n"
   ]
  },
  {
   "cell_type": "code",
   "execution_count": 8,
   "metadata": {},
   "outputs": [],
   "source": [
    "g = Game()"
   ]
  },
  {
   "cell_type": "code",
   "execution_count": 6,
   "metadata": {},
   "outputs": [
    {
     "data": {
      "text/plain": [
       "7"
      ]
     },
     "execution_count": 6,
     "metadata": {},
     "output_type": "execute_result"
    }
   ],
   "source": [
    "g.set_state_to('e7/f5 h4/g6, e6/g5 g3/e4, d5/f4 g4/e5, d4/f3')"
   ]
  },
  {
   "cell_type": "code",
   "execution_count": 4,
   "metadata": {},
   "outputs": [],
   "source": [
    "# g.execute_complete_move(make('e7/f5'))\n",
    "# g.execute_complete_move(make('h4/g6'))\n",
    "# g.execute_complete_move(make('e6/g5'))\n",
    "# g.execute_complete_move(make('g3/e4'))\n",
    "# g.execute_complete_move(make('d5/f4'))\n",
    "# g.execute_complete_move(make('g4/e5'))\n",
    "# g.execute_complete_move(make('d4/f3'))\n",
    "# g.execute_complete_move(make('h5/'))"
   ]
  },
  {
   "cell_type": "code",
   "execution_count": 10,
   "metadata": {},
   "outputs": [],
   "source": [
    "g.execute_complete_move(make('e9/g7'))"
   ]
  },
  {
   "cell_type": "code",
   "execution_count": 11,
   "metadata": {},
   "outputs": [
    {
     "name": "stdout",
     "output_type": "stream",
     "text": [
      "moves played: 1\n",
      "player #1 moves: 76\n",
      "dscr: e9/g7 \n"
     ]
    },
    {
     "data": {
      "image/png": "[encoded data removed]",
      "text/plain": [
       "<Figure size 600x600 with 1 Axes>"
      ]
     },
     "metadata": {},
     "output_type": "display_data"
    }
   ],
   "source": [
    "g.info()\n",
    "draw_board(g.board)"
   ]
  },
  {
   "cell_type": "code",
   "execution_count": null,
   "metadata": {},
   "outputs": [],
   "source": []
  }
 ],
 "metadata": {
  "kernelspec": {
   "display_name": "thevenv",
   "language": "python",
   "name": "python3"
  },
  "language_info": {
   "codemirror_mode": {
    "name": "ipython",
    "version": 3
   },
   "file_extension": ".py",
   "mimetype": "text/x-python",
   "name": "python",
   "nbconvert_exporter": "python",
   "pygments_lexer": "ipython3",
   "version": "3.11.2"
  },
  "orig_nbformat": 4
 },
 "nbformat": 4,
 "nbformat_minor": 2
}
