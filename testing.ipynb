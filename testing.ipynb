{
 "cells": [
  {
   "cell_type": "code",
   "execution_count": 5,
   "metadata": {},
   "outputs": [],
   "source": [
    "import numpy as np\n",
    "import matplotlib.pyplot as plt\n",
    "\n",
    "from board import Board, Pos, CompleteMove, BOARD_SIZE, make_cm, make_move, make"
   ]
  },
  {
   "cell_type": "code",
   "execution_count": 6,
   "metadata": {},
   "outputs": [],
   "source": [
    "def draw_board(board: Board, print_info: bool = True):\n",
    "    from string import ascii_lowercase\n",
    "    board.info()\n",
    "    print(board.get_nbs())\n",
    "    board_np = np.zeros((BOARD_SIZE, BOARD_SIZE, 3), dtype=int)\n",
    "    for i in range(BOARD_SIZE):\n",
    "        for j in range(BOARD_SIZE):\n",
    "            if board[i, j].is_empty():\n",
    "                board_np[i, j, :] = np.array([255, 255, 255], dtype=int)\n",
    "            elif board[i, j].is_player():\n",
    "                board_np[i, j, :] = np.array([255, 0, 0], dtype=int) if board[i, j].player_id == 0 else np.array([0, 0, 255], dtype=int)\n",
    "            elif board[i, j].is_trace():\n",
    "                board_np[i, j, :] = np.array([180, 60, 60], dtype=int) if board[i, j].player_id == 0 else np.array([60, 100, 180], dtype=int)\n",
    "            elif board[i, j].is_shot():\n",
    "                board_np[i, j, :] = np.array([120, 120, 120], dtype=int)\n",
    "    fig = plt.figure(figsize=(6, 6))\n",
    "    ax = fig.add_subplot(1, 1, 1)\n",
    "    _ticks = np.linspace(0.5, BOARD_SIZE-0.5, BOARD_SIZE)\n",
    "    plt.imshow(board_np)\n",
    "    plt.plot([1.5, 9.5, 9.5, 1.5, 1.5], [1.5, 1.5, 9.5, 9.5, 1.5], '-ok')\n",
    "    plt.plot([4], [3], 'or')\n",
    "    plt.plot([7], [8], 'ob')\n",
    "    ax.set_yticks(_ticks)\n",
    "    ax.set_xticks(_ticks)\n",
    "    ax.tick_params(\n",
    "        axis='both',\n",
    "        which='both',\n",
    "        labelbottom=False,\n",
    "        labelleft=False)\n",
    "    ax.grid(which='both')\n",
    "    for i in range(BOARD_SIZE):\n",
    "        ax.text(i, BOARD_SIZE+0.5, ascii_lowercase[i], style='italic')\n",
    "    for i in range(BOARD_SIZE):\n",
    "        ax.text(-1, BOARD_SIZE - i - 1, (str(i) if i < 10 else ascii_lowercase[i-10]), style='italic')\n",
    "    plt.show()\n"
   ]
  },
  {
   "cell_type": "code",
   "execution_count": null,
   "metadata": {},
   "outputs": [],
   "source": [
    "b = Board()"
   ]
  },
  {
   "cell_type": "code",
   "execution_count": null,
   "metadata": {},
   "outputs": [],
   "source": [
    "b.set_state_from_ngd('f7/g5 i3/h5, g6/h4 j4/h6, f5/g7 j3/i5, f4/g2 i2/g3, f3/h2 j1/k3, f2/g4 k1/i0, e3/d1 k2/i1, e4/d2 l3/k5, e5/d3 k4/l2, f6/d5 j5/l6, e7/c6 i6/k7, f8/h7 j7/i9, g8/i7 i8/g9, f9/h8 j9/hb, ga/e9 ja/h9, fb/ha k9/ia, ea/gb k8/la, d9/fa l8/ka, c9/bb l7/j6, ca/eb k6/j8, b9/cb r.')"
   ]
  },
  {
   "cell_type": "code",
   "execution_count": null,
   "metadata": {},
   "outputs": [],
   "source": [
    "b.execute_complete_move(make('e7/f5'))\n",
    "# b.execute_complete_move(make('h4/g6'))\n",
    "# b.execute_complete_move(make('e6/g5'))\n",
    "# b.execute_complete_move(make('g3/e4'))\n",
    "# b.execute_complete_move(make('d5/f4'))\n",
    "# b.execute_complete_move(make('g4/e5'))\n",
    "# b.execute_complete_move(make('d4/f3'))\n",
    "# b.execute_complete_move(make('h5/f6'))"
   ]
  },
  {
   "cell_type": "code",
   "execution_count": null,
   "metadata": {},
   "outputs": [],
   "source": [
    "draw_board(b)"
   ]
  },
  {
   "cell_type": "code",
   "execution_count": null,
   "metadata": {},
   "outputs": [],
   "source": []
  },
  {
   "cell_type": "markdown",
   "metadata": {},
   "source": [
    "# Playing against the algo"
   ]
  },
  {
   "cell_type": "markdown",
   "metadata": {},
   "source": [
    "## PickBest"
   ]
  },
  {
   "cell_type": "code",
   "execution_count": null,
   "metadata": {},
   "outputs": [],
   "source": [
    "from engine import PickBest"
   ]
  },
  {
   "cell_type": "code",
   "execution_count": null,
   "metadata": {},
   "outputs": [],
   "source": [
    "board = Board()\n",
    "algo = PickBest(player_id=1, board=board)"
   ]
  },
  {
   "cell_type": "code",
   "execution_count": null,
   "metadata": {},
   "outputs": [],
   "source": [
    "board.execute_complete_move(make('b9/cb'))"
   ]
  },
  {
   "cell_type": "code",
   "execution_count": null,
   "metadata": {},
   "outputs": [],
   "source": [
    "algo.make_best_move()"
   ]
  },
  {
   "cell_type": "code",
   "execution_count": null,
   "metadata": {},
   "outputs": [],
   "source": [
    "draw_board(board)"
   ]
  },
  {
   "cell_type": "code",
   "execution_count": null,
   "metadata": {},
   "outputs": [],
   "source": []
  },
  {
   "cell_type": "code",
   "execution_count": null,
   "metadata": {},
   "outputs": [],
   "source": []
  },
  {
   "cell_type": "markdown",
   "metadata": {},
   "source": [
    "# Reviewing a game"
   ]
  },
  {
   "cell_type": "code",
   "execution_count": 7,
   "metadata": {},
   "outputs": [],
   "source": [
    "from board import GameReplay"
   ]
  },
  {
   "cell_type": "code",
   "execution_count": 8,
   "metadata": {},
   "outputs": [
    {
     "name": "stdout",
     "output_type": "stream",
     "text": [
      "Loaded 41 moves\n"
     ]
    }
   ],
   "source": [
    "gr = GameReplay(\n",
    "    ngd='f7/g5 i3/h5, g6/h4 j4/h6, f5/g7 j3/i5, f4/g2 i2/g3, f3/h2 j1/k3, f2/g4 k1/i0, e3/d1 k2/i1, e4/d2 l3/k5, e5/d3 k4/l2, f6/d5 j5/l6, e7/c6 i6/k7, f8/h7 j7/i9, g8/i7 i8/g9, f9/h8 j9/hb, ga/e9 ja/h9, fb/ha k9/ia, ea/gb k8/la, d9/fa l8/ka, c9/bb l7/j6, ca/eb k6/j8, b9/cb r.'\n",
    ")"
   ]
  },
  {
   "cell_type": "code",
   "execution_count": 49,
   "metadata": {},
   "outputs": [
    {
     "name": "stdout",
     "output_type": "stream",
     "text": [
      "moves played: 41\n",
      "player #1 moves: 0\n",
      "dscr: f7/g5 i3/h5, g6/h4 j4/h6, f5/g7 j3/i5, f4/g2 i2/g3, f3/h2 j1/k3, f2/g4 k1/i0, e3/d1 k2/i1, e4/d2 l3/k5, e5/d3 k4/l2, f6/d5 j5/l6, e7/c6 i6/k7, f8/h7 j7/i9, g8/i7 i8/g9, f9/h8 j9/hb, ga/e9 ja/h9, fb/ha k9/ia, ea/gb k8/la, d9/fa l8/ka, c9/bb l7/j6, ca/eb k6/j8, b9/cb r.\n",
      "eval: 1.15\n",
      "1xx1xTxx4/2T1TxTxxtxx/1PTTxTxxxtt1/4TTTxtxtt/4TTxxxtxt/2x2TTxtxpx/3xTTxxxtx1/4TTxx1tt1/3xTTxtttxt/3x1Txxt1tx/3x4xtt1/8x3 b R\n"
     ]
    },
    {
     "data": {
      "image/png": "[encoded data removed]",
      "text/plain": [
       "<Figure size 600x600 with 1 Axes>"
      ]
     },
     "metadata": {},
     "output_type": "display_data"
    }
   ],
   "source": [
    "gr.play()\n",
    "draw_board(gr.b)"
   ]
  }
 ],
 "metadata": {
  "kernelspec": {
   "display_name": "thevenv",
   "language": "python",
   "name": "python3"
  },
  "language_info": {
   "codemirror_mode": {
    "name": "ipython",
    "version": 3
   },
   "file_extension": ".py",
   "mimetype": "text/x-python",
   "name": "python",
   "nbconvert_exporter": "python",
   "pygments_lexer": "ipython3",
   "version": "3.11.2"
  },
  "orig_nbformat": 4
 },
 "nbformat": 4,
 "nbformat_minor": 2
}
