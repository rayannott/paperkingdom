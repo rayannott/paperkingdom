{
 "cells": [
  {
   "cell_type": "code",
   "execution_count": 2,
   "metadata": {},
   "outputs": [],
   "source": [
    "import numpy as np\n",
    "import matplotlib.pyplot as plt\n",
    "\n",
    "from board import Board, Pos, CompleteMove, BOARD_SIZE, make_cm, make_move, make"
   ]
  },
  {
   "cell_type": "code",
   "execution_count": 3,
   "metadata": {},
   "outputs": [],
   "source": [
    "def draw_board(board: Board, print_info: bool = True):\n",
    "    from string import ascii_lowercase\n",
    "    if print_info:\n",
    "        board.info()\n",
    "        print(board.get_nbs())\n",
    "    board_np = np.zeros((BOARD_SIZE, BOARD_SIZE, 3), dtype=int)\n",
    "    for i in range(BOARD_SIZE):\n",
    "        for j in range(BOARD_SIZE):\n",
    "            if board[i, j].is_empty():\n",
    "                board_np[i, j, :] = np.array([255, 255, 255], dtype=int)\n",
    "            elif board[i, j].is_player():\n",
    "                board_np[i, j, :] = np.array([255, 0, 0], dtype=int) if board[i, j].player_id == 0 else np.array([0, 0, 255], dtype=int)\n",
    "            elif board[i, j].is_trace():\n",
    "                board_np[i, j, :] = np.array([180, 60, 60], dtype=int) if board[i, j].player_id == 0 else np.array([60, 100, 180], dtype=int)\n",
    "            elif board[i, j].is_shot():\n",
    "                board_np[i, j, :] = np.array([120, 120, 120], dtype=int)\n",
    "    fig = plt.figure(figsize=(6, 6))\n",
    "    ax = fig.add_subplot(1, 1, 1)\n",
    "    _ticks = np.linspace(0.5, BOARD_SIZE-0.5, BOARD_SIZE)\n",
    "    plt.imshow(board_np)\n",
    "    plt.plot([1.5, 9.5, 9.5, 1.5, 1.5], [1.5, 1.5, 9.5, 9.5, 1.5], '-ok')\n",
    "    plt.plot([4], [3], 'or')\n",
    "    plt.plot([7], [8], 'ob')\n",
    "    ax.set_yticks(_ticks)\n",
    "    ax.set_xticks(_ticks)\n",
    "    ax.tick_params(\n",
    "        axis='both',\n",
    "        which='both',\n",
    "        labelbottom=False,\n",
    "        labelleft=False)\n",
    "    ax.grid(which='both')\n",
    "    for i in range(BOARD_SIZE):\n",
    "        ax.text(i, BOARD_SIZE+0.5, ascii_lowercase[i], style='italic')\n",
    "    for i in range(BOARD_SIZE):\n",
    "        ax.text(-1, BOARD_SIZE - i - 1, (str(i) if i < 10 else ascii_lowercase[i-10]), style='italic')\n",
    "    plt.show()\n",
    "\n",
    "def eval_graph(board: Board):\n",
    "    if not board.eval_history:\n",
    "        print('no recorded history found')\n",
    "        return\n",
    "    plt.plot(board.eval_history, '--o', ms=5)\n",
    "    plt.grid()\n",
    "    plt.show()"
   ]
  },
  {
   "cell_type": "code",
   "execution_count": null,
   "metadata": {},
   "outputs": [],
   "source": [
    "b = Board()"
   ]
  },
  {
   "cell_type": "code",
   "execution_count": null,
   "metadata": {},
   "outputs": [],
   "source": [
    "b.set_state_from_ngd('f7/g5 i3/h5, g6/h4 j4/h6, f5/g7 j3/i5, f4/g2 i2/g3, f3/h2 j1/k3, f2/g4 k1/i0, e3/d1 k2/i1, e4/d2 l3/k5, e5/d3 k4/l2, f6/d5 j5/l6, e7/c6 i6/k7, f8/h7 j7/i9, g8/i7 i8/g9, f9/h8 j9/hb, ga/e9 ja/h9, fb/ha k9/ia, ea/gb k8/la, d9/fa l8/ka, c9/bb l7/j6, ca/eb k6/j8, b9/cb r.')"
   ]
  },
  {
   "cell_type": "code",
   "execution_count": null,
   "metadata": {},
   "outputs": [],
   "source": [
    "b.execute_complete_move(make('e7/f5'))\n",
    "# b.execute_complete_move(make('h4/g6'))\n",
    "# b.execute_complete_move(make('e6/g5'))\n",
    "# b.execute_complete_move(make('g3/e4'))\n",
    "# b.execute_complete_move(make('d5/f4'))\n",
    "# b.execute_complete_move(make('g4/e5'))\n",
    "# b.execute_complete_move(make('d4/f3'))\n",
    "# b.execute_complete_move(make('h5/f6'))"
   ]
  },
  {
   "cell_type": "code",
   "execution_count": null,
   "metadata": {},
   "outputs": [],
   "source": [
    "draw_board(b)"
   ]
  },
  {
   "cell_type": "code",
   "execution_count": null,
   "metadata": {},
   "outputs": [],
   "source": [
    "eval_graph(b)"
   ]
  },
  {
   "cell_type": "markdown",
   "metadata": {},
   "source": [
    "# Playing against the algo"
   ]
  },
  {
   "cell_type": "markdown",
   "metadata": {},
   "source": [
    "## PickBest"
   ]
  },
  {
   "cell_type": "code",
   "execution_count": 1,
   "metadata": {},
   "outputs": [],
   "source": [
    "from engine import PickBest"
   ]
  },
  {
   "cell_type": "code",
   "execution_count": null,
   "metadata": {},
   "outputs": [],
   "source": [
    "board = Board()\n",
    "algo = PickBest(player_id=1, board=board)"
   ]
  },
  {
   "cell_type": "code",
   "execution_count": null,
   "metadata": {},
   "outputs": [],
   "source": [
    "# my move\n",
    "board.execute_complete_move(make('b9/cb'))"
   ]
  },
  {
   "cell_type": "code",
   "execution_count": null,
   "metadata": {},
   "outputs": [],
   "source": [
    "# bot's move\n",
    "algo.make_move()"
   ]
  },
  {
   "cell_type": "code",
   "execution_count": null,
   "metadata": {},
   "outputs": [],
   "source": [
    "draw_board(board)"
   ]
  },
  {
   "cell_type": "markdown",
   "metadata": {},
   "source": [
    "### Bot vs. Bot"
   ]
  },
  {
   "cell_type": "code",
   "execution_count": 36,
   "metadata": {},
   "outputs": [],
   "source": [
    "board = Board()\n",
    "algo_red = PickBest(player_id=0, board=board, randomize=True)\n",
    "algo_blue = PickBest(player_id=1, board=board, randomize=True)"
   ]
  },
  {
   "cell_type": "code",
   "execution_count": 43,
   "metadata": {},
   "outputs": [
    {
     "name": "stdout",
     "output_type": "stream",
     "text": [
      "equiv moves len 4\n"
     ]
    },
    {
     "data": {
      "text/plain": [
       "b8/a6"
      ]
     },
     "execution_count": 43,
     "metadata": {},
     "output_type": "execute_result"
    }
   ],
   "source": [
    "algo_red.make_move()"
   ]
  },
  {
   "cell_type": "code",
   "execution_count": 44,
   "metadata": {},
   "outputs": [
    {
     "name": "stdout",
     "output_type": "stream",
     "text": [
      "equiv moves len 4\n"
     ]
    },
    {
     "data": {
      "text/plain": [
       "k3/j1"
      ]
     },
     "execution_count": 44,
     "metadata": {},
     "output_type": "execute_result"
    }
   ],
   "source": [
    "algo_blue.make_move()"
   ]
  },
  {
   "cell_type": "code",
   "execution_count": 45,
   "metadata": {},
   "outputs": [
    {
     "name": "stdout",
     "output_type": "stream",
     "text": [
      "moves played: 6\n",
      "player #0 moves: 43\n",
      "dscr: d8/c6 i3/j5, c8/ea j3/i1, b8/a6 k3/j1, \n",
      "eval: 0.00\n",
      "12/4x7/12/1PTTT7/12/x1x9/9x2/12/7tttp1/12/8xx2/12 r -\n"
     ]
    },
    {
     "data": {
      "image/png": "[encoded data removed]",
      "text/plain": [
       "<Figure size 600x600 with 1 Axes>"
      ]
     },
     "metadata": {},
     "output_type": "display_data"
    }
   ],
   "source": [
    "draw_board(board)"
   ]
  },
  {
   "cell_type": "markdown",
   "metadata": {},
   "source": [
    "## Minimax"
   ]
  },
  {
   "cell_type": "code",
   "execution_count": 4,
   "metadata": {},
   "outputs": [],
   "source": [
    "from engine import Minimax"
   ]
  },
  {
   "cell_type": "code",
   "execution_count": 40,
   "metadata": {},
   "outputs": [],
   "source": [
    "board = Board()\n",
    "algo = Minimax(player_id=1, board=board, depth=3, randomize=True)"
   ]
  },
  {
   "cell_type": "code",
   "execution_count": 6,
   "metadata": {},
   "outputs": [
    {
     "data": {
      "text/plain": [
       "3"
      ]
     },
     "execution_count": 6,
     "metadata": {},
     "output_type": "execute_result"
    }
   ],
   "source": [
    "board.set_state_from_ngd('e7/f5 h4/g6, f7/g5')"
   ]
  },
  {
   "cell_type": "code",
   "execution_count": 41,
   "metadata": {},
   "outputs": [
    {
     "data": {
      "text/plain": [
       "21"
      ]
     },
     "execution_count": 41,
     "metadata": {},
     "output_type": "execute_result"
    }
   ],
   "source": [
    "board.set_state_from_ngd('e7/f5 h4/g6, f7/g5 i5/k6, g8/h6 j5/k3, h9/i7 j4/i2, g9/ib i3/h1, h8/j7 j2/i4, g7/i8 i1/j3, f6/g4 j1/l0, e5/c6 k2/j0, d6/c4 k1/i0, d7/b6')"
   ]
  },
  {
   "cell_type": "code",
   "execution_count": 86,
   "metadata": {},
   "outputs": [],
   "source": [
    "# my move\n",
    "board.execute_complete_move(make('b7/a9'))"
   ]
  },
  {
   "cell_type": "code",
   "execution_count": 87,
   "metadata": {},
   "outputs": [
    {
     "ename": "IndexError",
     "evalue": "list index out of range",
     "output_type": "error",
     "traceback": [
      "\u001b[1;31m---------------------------------------------------------------------------\u001b[0m",
      "\u001b[1;31mIndexError\u001b[0m                                Traceback (most recent call last)",
      "Cell \u001b[1;32mIn[87], line 2\u001b[0m\n\u001b[0;32m      1\u001b[0m \u001b[39m# bot's move\u001b[39;00m\n\u001b[1;32m----> 2\u001b[0m algo\u001b[39m.\u001b[39;49mmake_move()\n\u001b[0;32m      3\u001b[0m \u001b[39m# algo.pick_move()\u001b[39;00m\n",
      "File \u001b[1;32mc:\\Users\\Airat\\contents\\pythoncode\\paperkingdom\\engine.py:155\u001b[0m, in \u001b[0;36mMinimax.make_move\u001b[1;34m(self)\u001b[0m\n\u001b[0;32m    153\u001b[0m     \u001b[39mprint\u001b[39m(\u001b[39m'\u001b[39m\u001b[39mThis is not my turn!\u001b[39m\u001b[39m'\u001b[39m)\n\u001b[0;32m    154\u001b[0m     \u001b[39mreturn\u001b[39;00m\n\u001b[1;32m--> 155\u001b[0m best_move \u001b[39m=\u001b[39m \u001b[39mself\u001b[39;49m\u001b[39m.\u001b[39;49mpick_move()\n\u001b[0;32m    156\u001b[0m \u001b[39mself\u001b[39m\u001b[39m.\u001b[39mb\u001b[39m.\u001b[39mexecute_complete_move(best_move)\n\u001b[0;32m    157\u001b[0m \u001b[39mreturn\u001b[39;00m best_move\n",
      "File \u001b[1;32mc:\\Users\\Airat\\contents\\pythoncode\\paperkingdom\\engine.py:141\u001b[0m, in \u001b[0;36mMinimax.pick_move\u001b[1;34m(self)\u001b[0m\n\u001b[0;32m    139\u001b[0m     \u001b[39mreturn\u001b[39;00m moves_values[\u001b[39m0\u001b[39m][\u001b[39m0\u001b[39m]\n\u001b[0;32m    140\u001b[0m equivalent_cms \u001b[39m=\u001b[39m []\n\u001b[1;32m--> 141\u001b[0m common_value \u001b[39m=\u001b[39m moves_values[\u001b[39m0\u001b[39;49m][\u001b[39m1\u001b[39m]\n\u001b[0;32m    142\u001b[0m \u001b[39mfor\u001b[39;00m cm, value \u001b[39min\u001b[39;00m moves_values:\n\u001b[0;32m    143\u001b[0m     \u001b[39mif\u001b[39;00m math\u001b[39m.\u001b[39misclose(common_value, value):\n",
      "\u001b[1;31mIndexError\u001b[0m: list index out of range"
     ]
    }
   ],
   "source": [
    "# bot's move\n",
    "algo.make_move()\n",
    "# algo.pick_move()"
   ]
  },
  {
   "cell_type": "code",
   "execution_count": 88,
   "metadata": {},
   "outputs": [
    {
     "name": "stdout",
     "output_type": "stream",
     "text": [
      "moves played: 43\n",
      "player #1 moves: 0\n",
      "dscr: e7/f5 h4/g6, f7/g5 i5/k6, g8/h6 j5/k3, h9/i7 j4/i2, g9/ib i3/h1, h8/j7 j2/i4, g7/i8 i1/j3, f6/g4 j1/l0, e5/c6 k2/j0, d6/c4 k1/i0, d7/b6 l2/k0, d8/e6 l3/k5, d9/b8 k4/j6, e9/cb l5/k7, ea/f8 l6/k8, fb/ha l7/k9, eb/ga l8/ka, da/f9 l9/ja, c9/db la/j9, c8/ba kb/ia, c7/b9 jb/i9, b7/a9 r.\n",
      "eval: 1.00\n",
      "2xxTT2xpt1/1x1TT1xxxxxt/xxTTTxTTxxxt/1xTTTxTTx1xt/1PTTTTT1xxxt/1xxTxTxx1xxt/4Txx1ttxt/2x3xtxtt1/7ttxxt/8xttt/7xttt1/8xxxx b R\n"
     ]
    },
    {
     "data": {
      "image/png": "[encoded data removed]",
      "text/plain": [
       "<Figure size 600x600 with 1 Axes>"
      ]
     },
     "metadata": {},
     "output_type": "display_data"
    }
   ],
   "source": [
    "draw_board(board)"
   ]
  },
  {
   "cell_type": "markdown",
   "metadata": {},
   "source": [
    "# Reviewing a game"
   ]
  },
  {
   "cell_type": "code",
   "execution_count": null,
   "metadata": {},
   "outputs": [],
   "source": [
    "from board import GameReplay"
   ]
  },
  {
   "cell_type": "code",
   "execution_count": null,
   "metadata": {},
   "outputs": [],
   "source": [
    "gr = GameReplay(\n",
    "    ngd='f7/g5 i3/h5, g6/h4 j4/h6, f5/g7 j3/i5, f4/g2 i2/g3, f3/h2 j1/k3, f2/g4 k1/i0, e3/d1 k2/i1, e4/d2 l3/k5, e5/d3 k4/l2, f6/d5 j5/l6, e7/c6 i6/k7, f8/h7 j7/i9, g8/i7 i8/g9, f9/h8 j9/hb, ga/e9 ja/h9, fb/ha k9/ia, ea/gb k8/la, d9/fa l8/ka, c9/bb l7/j6, ca/eb k6/j8, b9/cb r.'\n",
    ")"
   ]
  },
  {
   "cell_type": "code",
   "execution_count": null,
   "metadata": {},
   "outputs": [],
   "source": [
    "gr.play()\n",
    "draw_board(gr.b)"
   ]
  }
 ],
 "metadata": {
  "kernelspec": {
   "display_name": "thevenv",
   "language": "python",
   "name": "python3"
  },
  "language_info": {
   "codemirror_mode": {
    "name": "ipython",
    "version": 3
   },
   "file_extension": ".py",
   "mimetype": "text/x-python",
   "name": "python",
   "nbconvert_exporter": "python",
   "pygments_lexer": "ipython3",
   "version": "3.11.2"
  },
  "orig_nbformat": 4
 },
 "nbformat": 4,
 "nbformat_minor": 2
}
